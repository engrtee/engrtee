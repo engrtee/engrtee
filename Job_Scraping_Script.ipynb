{
  "nbformat": 4,
  "nbformat_minor": 0,
  "metadata": {
    "colab": {
      "provenance": [],
      "authorship_tag": "ABX9TyNoWkGoyXNxDF3i/ERrxOqt",
      "include_colab_link": true
    },
    "kernelspec": {
      "name": "python3",
      "display_name": "Python 3"
    },
    "language_info": {
      "name": "python"
    }
  },
  "cells": [
    {
      "cell_type": "markdown",
      "metadata": {
        "id": "view-in-github",
        "colab_type": "text"
      },
      "source": [
        "<a href=\"https://colab.research.google.com/github/engrtee/engrtee/blob/main/Job_Scraping_Script.ipynb\" target=\"_parent\"><img src=\"https://colab.research.google.com/assets/colab-badge.svg\" alt=\"Open In Colab\"/></a>"
      ]
    },
    {
      "cell_type": "code",
      "execution_count": null,
      "metadata": {
        "id": "mAEOnY25uq9Q"
      },
      "outputs": [],
      "source": [
        "import csv\n",
        "import requests\n",
        "import gspread\n",
        "from google.oauth2 import service_account\n",
        "import requests\n",
        "\n",
        "\n",
        "\n",
        "if __name__ == \"__main__\":\n",
        "    roles = [\"Data engineer\", \"Data Analyst\", \"Data Scientist\", \"Machine Learning\"]\n",
        "\n",
        "    # Create a CSV file for storing the job data\n",
        "    with open(\"jobs.csv\", mode=\"w\", newline='') as csv_file:\n",
        "        fieldnames = [\"Company\", \"Role\", \"Location\", \"Remote\", \"Link\"]\n",
        "        writer = csv.DictWriter(csv_file, fieldnames=fieldnames)\n",
        "        writer.writeheader()\n",
        "\n",
        "        url = \"https://4cqmtmmk73-dsn.algolia.net/1/indexes/Post_production/query\"\n",
        "        headers = {\n",
        "            \"Origin\": \"https://startup.jobs\",\n",
        "            \"User-Agent\": \"Mozilla/5.0 (Macintosh; Intel Mac OS X 10_15_7) AppleWebKit/605.1.15 (KHTML, like Gecko) Version/16.2 Safari/605.1.15\",\n",
        "            \"Referer\": \"https://startup.jobs/\",\n",
        "            \"Content-Type\": \"application/json\"\n",
        "        }\n",
        "        params = {\n",
        "            \"x-algolia-agent\": \"Algolia for JavaScript (4.14.2); Browser (lite)\",\n",
        "            \"x-algolia-api-key\": \"17cd9f3c024650820efaa17c39ea2b1d\",\n",
        "            \"x-algolia-application-id\": \"4CQMTMMK73\"\n",
        "        }\n",
        "\n",
        "        for role in roles:\n",
        "            payload = {\n",
        "                \"query\": role,\n",
        "                \"attributesToRetrieve\": [\n",
        "                    \"company_name\",\n",
        "                    \"title\",\n",
        "                    \"location\",\n",
        "                    \"remote\",\n",
        "                    \"path\"\n",
        "                ],\n",
        "                \"hitsPerPage\": 25,\n",
        "                \"page\": 0,\n",
        "                \"facets\": [\n",
        "                    \"commitment\"\n",
        "                ],\n",
        "                \"filters\": \"\",\n",
        "                \"tagFilters\": [\"\"],\n",
        "                \"facetFilters\": [\n",
        "                    [\n",
        "                        \"commitment:Full-Time\",\n",
        "                        \"commitment:Part-Time\",\n",
        "                        \"commitment:Internship\",\n",
        "                        \"commitment:Contractor\"\n",
        "                    ],\n",
        "                    \"remote:true\"\n",
        "                ],\n",
        "                \"ruleContexts\": [],\n",
        "                \"analyticsTags\": [\n",
        "                    \"frontend\"\n",
        "                ]\n",
        "            }\n",
        "            response = requests.post(url, headers=headers, params=params, json=payload).json()\n",
        "\n",
        "            for job in response[\"hits\"]:\n",
        "                company = job[\"company_name\"]\n",
        "                role = job[\"title\"]\n",
        "                location = job[\"location\"]\n",
        "                remote = job[\"remote\"]\n",
        "                link = \"https://startup.jobs\" + job[\"path\"]\n",
        "\n",
        "                # Write the job data to the CSV file\n",
        "                writer.writerow({\"Company\": company, \"Role\": role, \"Location\": location, \"Remote\": remote, \"Link\": link})\n"
      ]
    }
  ]
}